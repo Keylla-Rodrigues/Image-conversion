{
 "cells": [
  {
   "cell_type": "markdown",
   "id": "6477a2ee",
   "metadata": {},
   "source": [
    "# Color to sketch Image Conversion\n",
    "\n",
    "## How to execute - procedure..\n",
    "\n",
    "1) Choose a picture to orig_image.jpg (file must be a \".jpg\")\n",
    "2) Save this image in the defined local storage of your choice\n",
    "3) Take note of your local path\n",
    "4) Replace this path into each bracked \" imread & imwrite\" paths to allow saving each picture in this path after processed\n",
    "5) Ctrl Enter. The original image will open in a new window\n",
    "6) Select and view them, click on the \"X\" on the image window to be able to see the next modified images. Do it sucessively.\n",
    "\n"
   ]
  },
  {
   "cell_type": "code",
   "execution_count": 2,
   "id": "6865c3f4",
   "metadata": {},
   "outputs": [
    {
     "data": {
      "text/plain": [
       "True"
      ]
     },
     "execution_count": 2,
     "metadata": {},
     "output_type": "execute_result"
    }
   ],
   "source": [
    "import cv2                                                                # module import              \n",
    "\n",
    "# It will open the chosen picture from this local storage\n",
    "image = cv2.imread(r\"C:\\Users\\Keylla\\Desktop\\Programacao\\orig_image.jpg\")   \n",
    "cv2.imshow(\"orig_image\", image)                                           # used to display the image\n",
    "cv2.waitKey(0)                                                            # display the window infinitely until any keypress\n",
    "                                    \n",
    "\n",
    "\n",
    "# Define the 1st  shade - converting to the black and white\n",
    "gray_image = cv2.cvtColor(image, cv2.COLOR_BGR2GRAY)                      # it will return the image in gray sclae\n",
    "cv2.imshow(\"image_A\", gray_image)\n",
    "cv2.waitKey(0)\n",
    "cv2.imwrite(r\"C:\\Users\\Keylla\\Desktop\\Programacao\\image_A.jpg\", gray_image)  #to save\n",
    "\n",
    "\n",
    "\n",
    "# Define the 2nd  shade making the white black and vice-versa\n",
    "inverted_image = 255 - gray_image                                        # 255 = pixels -> gray scale reduction  = 127 pixels\n",
    "cv2.imshow(\"image_B\", inverted_image)\n",
    "cv2.waitKey()\n",
    "cv2.imwrite(r\"C:\\Users\\Keylla\\Desktop\\Programacao\\image_B.jpg\", inverted_image)\n",
    "\n",
    "\n",
    "\n",
    "# Define the last shade removing the remaining color & left with a pencil sketch\n",
    "blurred = cv2.GaussianBlur(inverted_image, (21, 21), 0)                 # blur an image making smooth/tuple-store multiple items in a single variable\n",
    "inverted_blurred = 255 - blurred\n",
    "sketch_color = cv2.divide(gray_image, inverted_blurred, scale=256.0)\n",
    "cv2.imshow(\"sketch\", sketch_color)\n",
    "cv2.waitKey(0)\n",
    "cv2.imwrite(r\"C:\\Users\\Keylla\\Desktop\\Programacao\\sketch.jpg\", sketch_color)       \n",
    "\n"
   ]
  },
  {
   "cell_type": "code",
   "execution_count": null,
   "id": "44a15bad",
   "metadata": {},
   "outputs": [],
   "source": []
  }
 ],
 "metadata": {
  "kernelspec": {
   "display_name": "Python 3",
   "language": "python",
   "name": "python3"
  },
  "language_info": {
   "codemirror_mode": {
    "name": "ipython",
    "version": 3
   },
   "file_extension": ".py",
   "mimetype": "text/x-python",
   "name": "python",
   "nbconvert_exporter": "python",
   "pygments_lexer": "ipython3",
   "version": "3.8.8"
  }
 },
 "nbformat": 4,
 "nbformat_minor": 5
}
